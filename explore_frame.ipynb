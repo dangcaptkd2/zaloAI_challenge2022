{
 "cells": [
  {
   "cell_type": "code",
   "execution_count": 7,
   "metadata": {},
   "outputs": [],
   "source": [
    "import cv2 \n",
    "import os\n",
    "import glob\n",
    "from tqdm import tqdm\n",
    "from collections import defaultdict"
   ]
  },
  {
   "cell_type": "code",
   "execution_count": 5,
   "metadata": {},
   "outputs": [],
   "source": [
    "path = './data/train/videos'"
   ]
  },
  {
   "cell_type": "code",
   "execution_count": 15,
   "metadata": {
    "tags": []
   },
   "outputs": [
    {
     "name": "stderr",
     "output_type": "stream",
     "text": [
      "  2%|██▎                                                                                                                                                | 18/1168 [03:48<4:50:49, 15.17s/it]"
     ]
    },
    {
     "name": "stdout",
     "output_type": "stream",
     "text": [
      "./data/train/videos/508.mp4\n",
      "./data/train/videos/508.mp4\n",
      "./data/train/videos/508.mp4\n",
      "./data/train/videos/508.mp4\n",
      "./data/train/videos/508.mp4\n",
      "./data/train/videos/508.mp4\n",
      "./data/train/videos/508.mp4\n",
      "./data/train/videos/508.mp4\n",
      "./data/train/videos/508.mp4\n",
      "./data/train/videos/508.mp4\n",
      "./data/train/videos/508.mp4\n",
      "./data/train/videos/508.mp4\n",
      "./data/train/videos/508.mp4\n",
      "./data/train/videos/508.mp4\n",
      "./data/train/videos/508.mp4\n",
      "./data/train/videos/508.mp4\n",
      "./data/train/videos/508.mp4\n",
      "./data/train/videos/508.mp4\n",
      "./data/train/videos/508.mp4\n",
      "./data/train/videos/508.mp4\n",
      "./data/train/videos/508.mp4\n",
      "./data/train/videos/508.mp4\n",
      "./data/train/videos/508.mp4\n",
      "./data/train/videos/508.mp4\n",
      "./data/train/videos/508.mp4\n",
      "./data/train/videos/508.mp4\n",
      "./data/train/videos/508.mp4\n",
      "./data/train/videos/508.mp4\n",
      "./data/train/videos/508.mp4\n",
      "./data/train/videos/508.mp4\n",
      "./data/train/videos/508.mp4\n",
      "./data/train/videos/508.mp4\n",
      "./data/train/videos/508.mp4\n",
      "./data/train/videos/508.mp4\n",
      "./data/train/videos/508.mp4\n",
      "./data/train/videos/508.mp4\n",
      "./data/train/videos/508.mp4\n",
      "./data/train/videos/508.mp4\n",
      "./data/train/videos/508.mp4\n",
      "./data/train/videos/508.mp4\n",
      "./data/train/videos/508.mp4\n",
      "./data/train/videos/508.mp4\n",
      "./data/train/videos/508.mp4\n",
      "./data/train/videos/508.mp4\n",
      "./data/train/videos/508.mp4\n",
      "./data/train/videos/508.mp4\n"
     ]
    },
    {
     "name": "stderr",
     "output_type": "stream",
     "text": [
      "  2%|██▍                                                                                                                                                | 19/1168 [03:53<3:49:37, 11.99s/it]"
     ]
    },
    {
     "name": "stdout",
     "output_type": "stream",
     "text": [
      "./data/train/videos/508.mp4\n",
      "./data/train/videos/508.mp4\n"
     ]
    },
    {
     "name": "stderr",
     "output_type": "stream",
     "text": [
      "  2%|██▍                                                                                                                                                | 19/1168 [05:19<5:21:32, 16.79s/it]\n"
     ]
    },
    {
     "ename": "KeyboardInterrupt",
     "evalue": "",
     "output_type": "error",
     "traceback": [
      "\u001b[0;31m---------------------------------------------------------------------------\u001b[0m",
      "\u001b[0;31mKeyboardInterrupt\u001b[0m                         Traceback (most recent call last)",
      "\u001b[0;32m/tmp/ipykernel_28024/2976000898.py\u001b[0m in \u001b[0;36m<module>\u001b[0;34m\u001b[0m\n\u001b[1;32m      9\u001b[0m     \u001b[0mgood_frame\u001b[0m\u001b[0;34m=\u001b[0m\u001b[0;36m0\u001b[0m\u001b[0;34m\u001b[0m\u001b[0;34m\u001b[0m\u001b[0m\n\u001b[1;32m     10\u001b[0m     \u001b[0;32mfor\u001b[0m \u001b[0mi\u001b[0m \u001b[0;32min\u001b[0m \u001b[0mrange\u001b[0m\u001b[0;34m(\u001b[0m\u001b[0;36m0\u001b[0m\u001b[0;34m,\u001b[0m \u001b[0mframe_id\u001b[0m\u001b[0;34m)\u001b[0m\u001b[0;34m:\u001b[0m\u001b[0;34m\u001b[0m\u001b[0;34m\u001b[0m\u001b[0m\n\u001b[0;32m---> 11\u001b[0;31m             \u001b[0mvideo\u001b[0m\u001b[0;34m.\u001b[0m\u001b[0mset\u001b[0m\u001b[0;34m(\u001b[0m\u001b[0mcv2\u001b[0m\u001b[0;34m.\u001b[0m\u001b[0mCAP_PROP_POS_FRAMES\u001b[0m\u001b[0;34m,\u001b[0m \u001b[0mi\u001b[0m\u001b[0;34m)\u001b[0m\u001b[0;34m\u001b[0m\u001b[0;34m\u001b[0m\u001b[0m\n\u001b[0m\u001b[1;32m     12\u001b[0m             \u001b[0mret\u001b[0m\u001b[0;34m,\u001b[0m \u001b[0mframe\u001b[0m \u001b[0;34m=\u001b[0m \u001b[0mvideo\u001b[0m\u001b[0;34m.\u001b[0m\u001b[0mread\u001b[0m\u001b[0;34m(\u001b[0m\u001b[0;34m)\u001b[0m\u001b[0;34m\u001b[0m\u001b[0;34m\u001b[0m\u001b[0m\n\u001b[1;32m     13\u001b[0m             \u001b[0;32mif\u001b[0m \u001b[0mframe\u001b[0m \u001b[0;32mis\u001b[0m \u001b[0;32mnot\u001b[0m \u001b[0;32mNone\u001b[0m\u001b[0;34m:\u001b[0m\u001b[0;34m\u001b[0m\u001b[0;34m\u001b[0m\u001b[0m\n",
      "\u001b[0;31mKeyboardInterrupt\u001b[0m: "
     ]
    }
   ],
   "source": [
    "r = []\n",
    "for video_path in tqdm(glob.glob(os.path.join(path, '*.mp4'))):\n",
    "    video = cv2.VideoCapture(video_path)\n",
    "    fps = video.get(cv2.CAP_PROP_FPS)\n",
    "    minutes = 0\n",
    "    seconds = 5\n",
    "    frame_id = int(fps*(minutes*60 + seconds))\n",
    "    frames = []\n",
    "    good_frame=0\n",
    "    for i in range(0, frame_id):\n",
    "            video.set(cv2.CAP_PROP_POS_FRAMES, i)\n",
    "            ret, frame = video.read()\n",
    "            if frame is not None: \n",
    "                good_frame+=1\n",
    "            else:\n",
    "                print(video_path)\n",
    "            \n",
    "    r.append([frame_id, good_frame])"
   ]
  },
  {
   "cell_type": "code",
   "execution_count": 17,
   "metadata": {},
   "outputs": [
    {
     "name": "stdout",
     "output_type": "stream",
     "text": [
      "90\n"
     ]
    }
   ],
   "source": [
    "video = cv2.VideoCapture('./data/train/videos/508.mp4')\n",
    "fps = video.get(cv2.CAP_PROP_FPS)\n",
    "minutes = 0\n",
    "seconds = 3\n",
    "frame_id = int(fps*(minutes*60 + seconds))\n",
    "print(frame_id)\n",
    "frames = []\n",
    "good_frame=0\n",
    "for i in range(0, frame_id):\n",
    "        video.set(cv2.CAP_PROP_POS_FRAMES, i)\n",
    "        ret, frame = video.read()\n",
    "        if frame is not None: \n",
    "            good_frame+=1\n",
    "        else:\n",
    "            print(video_path)"
   ]
  },
  {
   "cell_type": "code",
   "execution_count": 19,
   "metadata": {},
   "outputs": [
    {
     "data": {
      "text/plain": [
       "(0.0, 102.0)"
      ]
     },
     "execution_count": 19,
     "metadata": {},
     "output_type": "execute_result"
    }
   ],
   "source": [
    "def with_opencv(filename):\n",
    "    import cv2\n",
    "    video = cv2.VideoCapture(filename)\n",
    "\n",
    "    duration = video.get(cv2.CAP_PROP_POS_MSEC)\n",
    "    frame_count = video.get(cv2.CAP_PROP_FRAME_COUNT)\n",
    "\n",
    "    return duration, frame_count\n",
    "with_opencv('./data/train/videos/508.mp4')"
   ]
  },
  {
   "cell_type": "code",
   "execution_count": 21,
   "metadata": {},
   "outputs": [
    {
     "name": "stdout",
     "output_type": "stream",
     "text": [
      "102.0\n",
      "30.0\n",
      "duration in seconds: 3\n",
      "video time: 0:00:03\n"
     ]
    }
   ],
   "source": [
    "import cv2\n",
    "import datetime\n",
    " \n",
    "# create video capture object\n",
    "data = cv2.VideoCapture('./data/train/videos/508.mp4')\n",
    " \n",
    "# count the number of frames\n",
    "frames = data.get(cv2.CAP_PROP_FRAME_COUNT)\n",
    "print(frames)\n",
    "fps = data.get(cv2.CAP_PROP_FPS)\n",
    "print(fps)\n",
    " \n",
    "# calculate duration of the video\n",
    "seconds = round(frames / fps)\n",
    "video_time = datetime.timedelta(seconds=seconds)\n",
    "print(f\"duration in seconds: {seconds}\")\n",
    "print(f\"video time: {video_time}\")"
   ]
  },
  {
   "cell_type": "code",
   "execution_count": 14,
   "metadata": {},
   "outputs": [
    {
     "data": {
      "text/html": [
       "<div>\n",
       "<style scoped>\n",
       "    .dataframe tbody tr th:only-of-type {\n",
       "        vertical-align: middle;\n",
       "    }\n",
       "\n",
       "    .dataframe tbody tr th {\n",
       "        vertical-align: top;\n",
       "    }\n",
       "\n",
       "    .dataframe thead th {\n",
       "        text-align: right;\n",
       "    }\n",
       "</style>\n",
       "<table border=\"1\" class=\"dataframe\">\n",
       "  <thead>\n",
       "    <tr style=\"text-align: right;\">\n",
       "      <th></th>\n",
       "      <th>fname</th>\n",
       "      <th>liveness_score</th>\n",
       "      <th>split</th>\n",
       "    </tr>\n",
       "  </thead>\n",
       "  <tbody>\n",
       "    <tr>\n",
       "      <th>0</th>\n",
       "      <td>474.mp4</td>\n",
       "      <td>None</td>\n",
       "      <td>test</td>\n",
       "    </tr>\n",
       "    <tr>\n",
       "      <th>1</th>\n",
       "      <td>479.mp4</td>\n",
       "      <td>None</td>\n",
       "      <td>test</td>\n",
       "    </tr>\n",
       "    <tr>\n",
       "      <th>2</th>\n",
       "      <td>482.mp4</td>\n",
       "      <td>None</td>\n",
       "      <td>test</td>\n",
       "    </tr>\n",
       "    <tr>\n",
       "      <th>3</th>\n",
       "      <td>486.mp4</td>\n",
       "      <td>None</td>\n",
       "      <td>test</td>\n",
       "    </tr>\n",
       "    <tr>\n",
       "      <th>4</th>\n",
       "      <td>488.mp4</td>\n",
       "      <td>None</td>\n",
       "      <td>test</td>\n",
       "    </tr>\n",
       "    <tr>\n",
       "      <th>...</th>\n",
       "      <td>...</td>\n",
       "      <td>...</td>\n",
       "      <td>...</td>\n",
       "    </tr>\n",
       "    <tr>\n",
       "      <th>345</th>\n",
       "      <td>118.mp4</td>\n",
       "      <td>None</td>\n",
       "      <td>test</td>\n",
       "    </tr>\n",
       "    <tr>\n",
       "      <th>346</th>\n",
       "      <td>121.mp4</td>\n",
       "      <td>None</td>\n",
       "      <td>test</td>\n",
       "    </tr>\n",
       "    <tr>\n",
       "      <th>347</th>\n",
       "      <td>123.mp4</td>\n",
       "      <td>None</td>\n",
       "      <td>test</td>\n",
       "    </tr>\n",
       "    <tr>\n",
       "      <th>348</th>\n",
       "      <td>132.mp4</td>\n",
       "      <td>None</td>\n",
       "      <td>test</td>\n",
       "    </tr>\n",
       "    <tr>\n",
       "      <th>349</th>\n",
       "      <td>139.mp4</td>\n",
       "      <td>None</td>\n",
       "      <td>test</td>\n",
       "    </tr>\n",
       "  </tbody>\n",
       "</table>\n",
       "<p>350 rows × 3 columns</p>\n",
       "</div>"
      ],
      "text/plain": [
       "       fname liveness_score split\n",
       "0    474.mp4           None  test\n",
       "1    479.mp4           None  test\n",
       "2    482.mp4           None  test\n",
       "3    486.mp4           None  test\n",
       "4    488.mp4           None  test\n",
       "..       ...            ...   ...\n",
       "345  118.mp4           None  test\n",
       "346  121.mp4           None  test\n",
       "347  123.mp4           None  test\n",
       "348  132.mp4           None  test\n",
       "349  139.mp4           None  test\n",
       "\n",
       "[350 rows x 3 columns]"
      ]
     },
     "execution_count": 14,
     "metadata": {},
     "output_type": "execute_result"
    }
   ],
   "source": [
    "test = pd.DataFrame()\n",
    "test['fname'] = os.listdir('./data/public/videos')\n",
    "test['liveness_score'], test['split'] = None, 'test'\n",
    "test"
   ]
  },
  {
   "cell_type": "code",
   "execution_count": null,
   "metadata": {},
   "outputs": [],
   "source": []
  }
 ],
 "metadata": {
  "kernelspec": {
   "display_name": "coding_37",
   "language": "python",
   "name": "coding_37"
  },
  "language_info": {
   "codemirror_mode": {
    "name": "ipython",
    "version": 3
   },
   "file_extension": ".py",
   "mimetype": "text/x-python",
   "name": "python",
   "nbconvert_exporter": "python",
   "pygments_lexer": "ipython3",
   "version": "3.7.3"
  },
  "vscode": {
   "interpreter": {
    "hash": "dcbfcd91dd51dde92c15f40a170d263dd78314742402bbe5b8ac08238a6f87bd"
   }
  },
  "widgets": {
   "application/vnd.jupyter.widget-state+json": {
    "state": {},
    "version_major": 2,
    "version_minor": 0
   }
  }
 },
 "nbformat": 4,
 "nbformat_minor": 4
}
